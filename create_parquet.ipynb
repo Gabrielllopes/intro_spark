{
 "metadata": {
  "language_info": {
   "codemirror_mode": {
    "name": "ipython",
    "version": 3
   },
   "file_extension": ".py",
   "mimetype": "text/x-python",
   "name": "python",
   "nbconvert_exporter": "python",
   "pygments_lexer": "ipython3",
   "version": "3.6.9"
  },
  "orig_nbformat": 2,
  "kernelspec": {
   "name": "python369jvsc74a57bd031f2aee4e71d21fbe5cf8b01ff0e069b9275f58929596ceb00d14d90e3e16cd6",
   "display_name": "Python 3.6.9 64-bit"
  },
  "metadata": {
   "interpreter": {
    "hash": "31f2aee4e71d21fbe5cf8b01ff0e069b9275f58929596ceb00d14d90e3e16cd6"
   }
  }
 },
 "nbformat": 4,
 "nbformat_minor": 2,
 "cells": [
  {
   "cell_type": "code",
   "execution_count": 2,
   "metadata": {},
   "outputs": [],
   "source": [
    "# importa bibliotecas e inicia sessão spark\n",
    "# Referência: https://spark.apache.org/docs/latest/sql-getting-started.html\n",
    "from pyspark.sql import SparkSession\n",
    "\n",
    "spark = SparkSession \\\n",
    "    .builder \\\n",
    "    .appName(\"create_parquet\") \\\n",
    "    .config(\"spark.some.config.option\", \"some-value\") \\\n",
    "    .getOrCreate()"
   ]
  },
  {
   "source": [
    "## Carrega dados"
   ],
   "cell_type": "markdown",
   "metadata": {}
  },
  {
   "cell_type": "code",
   "execution_count": 36,
   "metadata": {},
   "outputs": [
    {
     "output_type": "stream",
     "name": "stdout",
     "text": [
      "\n Schema\nroot\n |-- user_id: integer (nullable = true)\n |-- movie_id: integer (nullable = true)\n |-- nota: integer (nullable = true)\n |-- date: string (nullable = true)\n\n\n Head\n+-------+--------+----+-------------------+\n|user_id|movie_id|nota|               date|\n+-------+--------+----+-------------------+\n|    196|     242|   3|1997-12-04 13:55:49|\n|    186|     302|   3|1998-04-04 16:22:22|\n|     22|     377|   1|1997-11-07 05:18:36|\n|    244|      51|   2|1997-11-27 03:02:03|\n|    166|     346|   1|1998-02-02 03:33:16|\n|    298|     474|   4|1998-01-07 12:20:06|\n|    115|     265|   2|1997-12-03 15:51:28|\n|    253|     465|   5|1998-04-03 15:34:27|\n|    305|     451|   3|1998-02-01 07:20:17|\n|      6|      86|   3|1997-12-31 19:16:53|\n|     62|     257|   2|1997-11-12 20:07:14|\n|    286|    1014|   5|1997-11-17 13:38:45|\n|    200|     222|   5|1997-10-05 06:05:40|\n|    210|      40|   3|1998-03-27 18:59:54|\n|    224|      29|   3|1998-02-21 21:40:57|\n|    303|     785|   3|1997-11-14 03:28:38|\n|    122|     387|   5|1997-11-11 15:47:39|\n|    194|     274|   2|1997-11-14 18:36:34|\n|    291|    1042|   4|1997-09-21 06:42:24|\n|    234|    1184|   2|1998-04-08 20:47:17|\n+-------+--------+----+-------------------+\nonly showing top 20 rows\n\n"
     ]
    }
   ],
   "source": [
    "from pyspark.sql.types import IntegerType, StringType, StructType, ByteType\n",
    "from pyspark.sql.functions import from_unixtime\n",
    "\n",
    "# criando esquema de u_data\n",
    "# note que o formato do data esta em string\n",
    "# isso pq este arquivo usa o timestamp unix secondis since 1/1/1970 UTC\n",
    "# e sera convertido depois\n",
    "data_schema = StructType() \\\n",
    "      .add(\"user_id\",IntegerType(),True) \\\n",
    "      .add(\"movie_id\",IntegerType(),True) \\\n",
    "      .add(\"nota\",IntegerType(),True) \\\n",
    "      .add(\"data\",StringType(),True) \n",
    "\n",
    "df_data = spark.read.csv(\"u_data.csv\", header=False, sep=\"\\t\", schema=data_schema)\n",
    "df_data = df_data.withColumn(\"date\", from_unixtime(df_data[\"data\"]))\n",
    "# removendo coluna em formato de data unix\n",
    "df_data = df_data.drop('data')\n",
    "\n",
    "print(\"\\n Schema\")\n",
    "df_data.printSchema()\n",
    "print(\"\\n Head\")\n",
    "df_data.show()"
   ]
  },
  {
   "cell_type": "code",
   "execution_count": 28,
   "metadata": {},
   "outputs": [
    {
     "output_type": "stream",
     "name": "stdout",
     "text": [
      "\n Schema\nroot\n |-- movie_id: integer (nullable = true)\n |-- movie_title: string (nullable = true)\n |-- release_data: string (nullable = true)\n |-- video_release_date: string (nullable = true)\n |-- imdb_url: string (nullable = true)\n |-- action: byte (nullable = true)\n |-- adventure: byte (nullable = true)\n |-- animation: byte (nullable = true)\n |-- children: byte (nullable = true)\n |-- comedy: byte (nullable = true)\n |-- crime: byte (nullable = true)\n |-- documentary: byte (nullable = true)\n |-- drama: byte (nullable = true)\n |-- fantasy: byte (nullable = true)\n |-- film-noir: byte (nullable = true)\n |-- horror: byte (nullable = true)\n |-- musical: byte (nullable = true)\n |-- mystery: byte (nullable = true)\n |-- romance: byte (nullable = true)\n |-- sci-fi: byte (nullable = true)\n |-- thriller: byte (nullable = true)\n |-- war: byte (nullable = true)\n |-- western: byte (nullable = true)\n\n\n Head\n+--------+--------------------+------------+------------------+--------------------+------+---------+---------+--------+------+-----+-----------+-----+-------+---------+------+-------+-------+-------+------+--------+---+-------+\n|movie_id|         movie_title|release_data|video_release_date|            imdb_url|action|adventure|animation|children|comedy|crime|documentary|drama|fantasy|film-noir|horror|musical|mystery|romance|sci-fi|thriller|war|western|\n+--------+--------------------+------------+------------------+--------------------+------+---------+---------+--------+------+-----+-----------+-----+-------+---------+------+-------+-------+-------+------+--------+---+-------+\n|       1|    Toy Story (1995)| 01-Jan-1995|              null|http://us.imdb.co...|     0|        0|        1|       1|     1|    0|          0|    0|      0|        0|     0|      0|      0|      0|     0|       0|  0|      0|\n|       2|    GoldenEye (1995)| 01-Jan-1995|              null|http://us.imdb.co...|     1|        1|        0|       0|     0|    0|          0|    0|      0|        0|     0|      0|      0|      0|     0|       1|  0|      0|\n|       3|   Four Rooms (1995)| 01-Jan-1995|              null|http://us.imdb.co...|     0|        0|        0|       0|     0|    0|          0|    0|      0|        0|     0|      0|      0|      0|     0|       1|  0|      0|\n|       4|   Get Shorty (1995)| 01-Jan-1995|              null|http://us.imdb.co...|     1|        0|        0|       0|     1|    0|          0|    1|      0|        0|     0|      0|      0|      0|     0|       0|  0|      0|\n|       5|      Copycat (1995)| 01-Jan-1995|              null|http://us.imdb.co...|     0|        0|        0|       0|     0|    1|          0|    1|      0|        0|     0|      0|      0|      0|     0|       1|  0|      0|\n|       6|Shanghai Triad (Y...| 01-Jan-1995|              null|http://us.imdb.co...|     0|        0|        0|       0|     0|    0|          0|    1|      0|        0|     0|      0|      0|      0|     0|       0|  0|      0|\n|       7|Twelve Monkeys (1...| 01-Jan-1995|              null|http://us.imdb.co...|     0|        0|        0|       0|     0|    0|          0|    1|      0|        0|     0|      0|      0|      0|     1|       0|  0|      0|\n|       8|         Babe (1995)| 01-Jan-1995|              null|http://us.imdb.co...|     0|        0|        0|       1|     1|    0|          0|    1|      0|        0|     0|      0|      0|      0|     0|       0|  0|      0|\n|       9|Dead Man Walking ...| 01-Jan-1995|              null|http://us.imdb.co...|     0|        0|        0|       0|     0|    0|          0|    1|      0|        0|     0|      0|      0|      0|     0|       0|  0|      0|\n|      10|  Richard III (1995)| 22-Jan-1996|              null|http://us.imdb.co...|     0|        0|        0|       0|     0|    0|          0|    1|      0|        0|     0|      0|      0|      0|     0|       0|  1|      0|\n|      11|Seven (Se7en) (1995)| 01-Jan-1995|              null|http://us.imdb.co...|     0|        0|        0|       0|     0|    1|          0|    0|      0|        0|     0|      0|      0|      0|     0|       1|  0|      0|\n|      12|Usual Suspects, T...| 14-Aug-1995|              null|http://us.imdb.co...|     0|        0|        0|       0|     0|    1|          0|    0|      0|        0|     0|      0|      0|      0|     0|       1|  0|      0|\n|      13|Mighty Aphrodite ...| 30-Oct-1995|              null|http://us.imdb.co...|     0|        0|        0|       0|     1|    0|          0|    0|      0|        0|     0|      0|      0|      0|     0|       0|  0|      0|\n|      14|  Postino, Il (1994)| 01-Jan-1994|              null|http://us.imdb.co...|     0|        0|        0|       0|     0|    0|          0|    1|      0|        0|     0|      0|      0|      1|     0|       0|  0|      0|\n|      15|Mr. Holland's Opu...| 29-Jan-1996|              null|http://us.imdb.co...|     0|        0|        0|       0|     0|    0|          0|    1|      0|        0|     0|      0|      0|      0|     0|       0|  0|      0|\n|      16|French Twist (Gaz...| 01-Jan-1995|              null|http://us.imdb.co...|     0|        0|        0|       0|     1|    0|          0|    0|      0|        0|     0|      0|      0|      1|     0|       0|  0|      0|\n|      17|From Dusk Till Da...| 05-Feb-1996|              null|http://us.imdb.co...|     1|        0|        0|       0|     1|    1|          0|    0|      0|        0|     1|      0|      0|      0|     0|       1|  0|      0|\n|      18|White Balloon, Th...| 01-Jan-1995|              null|http://us.imdb.co...|     0|        0|        0|       0|     0|    0|          0|    1|      0|        0|     0|      0|      0|      0|     0|       0|  0|      0|\n|      19|Antonia's Line (1...| 01-Jan-1995|              null|http://us.imdb.co...|     0|        0|        0|       0|     0|    0|          0|    1|      0|        0|     0|      0|      0|      0|     0|       0|  0|      0|\n|      20|Angels and Insect...| 01-Jan-1995|              null|http://us.imdb.co...|     0|        0|        0|       0|     0|    0|          0|    1|      0|        0|     0|      0|      0|      1|     0|       0|  0|      0|\n+--------+--------------------+------------+------------------+--------------------+------+---------+---------+--------+------+-----+-----------+-----+-------+---------+------+-------+-------+-------+------+--------+---+-------+\nonly showing top 20 rows\n\n"
     ]
    }
   ],
   "source": [
    "item_schema = StructType() \\\n",
    "    .add(\"movie_id\",IntegerType(),True) \\\n",
    "    .add(\"movie_title\",StringType(),True) \\\n",
    "    .add(\"release_data\",StringType(),True) \\\n",
    "    .add(\"video_release_date\",StringType(),True) \\\n",
    "    .add(\"imdb_url\",StringType(),True) \\\n",
    "    .add(\"unknow\",StringType(),True) \\\n",
    "    .add(\"action\",ByteType(),True) \\\n",
    "    .add(\"adventure\",ByteType(),True) \\\n",
    "    .add(\"animation\",ByteType(),True) \\\n",
    "    .add(\"children\",ByteType(),True) \\\n",
    "    .add(\"comedy\",ByteType(),True) \\\n",
    "    .add(\"crime\",ByteType(),True) \\\n",
    "    .add(\"documentary\",ByteType(),True) \\\n",
    "    .add(\"drama\",ByteType(),True) \\\n",
    "    .add(\"fantasy\",ByteType(),True) \\\n",
    "    .add(\"film-noir\",ByteType(),True) \\\n",
    "    .add(\"horror\",ByteType(),True) \\\n",
    "    .add(\"musical\",ByteType(),True) \\\n",
    "    .add(\"mystery\",ByteType(),True) \\\n",
    "    .add(\"romance\",ByteType(),True) \\\n",
    "    .add(\"sci-fi\",ByteType(),True) \\\n",
    "    .add(\"thriller\",ByteType(),True) \\\n",
    "    .add(\"war\",ByteType(),True) \\\n",
    "    .add(\"western\",ByteType(),True)\n",
    "\n",
    "df_item = spark.read.csv(\"u_item.csv\", header=False, sep=\"|\", schema=item_schema)\n",
    "\n",
    "# removendo coluna vazia/desconhecida\n",
    "df_item = df_item.drop('unknow')\n",
    "\n",
    "print(\"\\n Schema\")\n",
    "df_item.printSchema()\n",
    "print(\"\\n Head\")\n",
    "df_item.show()"
   ]
  },
  {
   "cell_type": "code",
   "execution_count": 27,
   "metadata": {},
   "outputs": [
    {
     "output_type": "stream",
     "name": "stdout",
     "text": [
      "\n Schema\nroot\n |-- user_id: integer (nullable = true)\n |-- age: integer (nullable = true)\n |-- gender: string (nullable = true)\n |-- occupation: string (nullable = true)\n |-- zip_code: string (nullable = true)\n\n\n Head\n+-------+---+------+-------------+--------+\n|user_id|age|gender|   occupation|zip_code|\n+-------+---+------+-------------+--------+\n|      1| 24|     M|   technician|   85711|\n|      2| 53|     F|        other|   94043|\n|      3| 23|     M|       writer|   32067|\n|      4| 24|     M|   technician|   43537|\n|      5| 33|     F|        other|   15213|\n|      6| 42|     M|    executive|   98101|\n|      7| 57|     M|administrator|   91344|\n|      8| 36|     M|administrator|   05201|\n|      9| 29|     M|      student|   01002|\n|     10| 53|     M|       lawyer|   90703|\n|     11| 39|     F|        other|   30329|\n|     12| 28|     F|        other|   06405|\n|     13| 47|     M|     educator|   29206|\n|     14| 45|     M|    scientist|   55106|\n|     15| 49|     F|     educator|   97301|\n|     16| 21|     M|entertainment|   10309|\n|     17| 30|     M|   programmer|   06355|\n|     18| 35|     F|        other|   37212|\n|     19| 40|     M|    librarian|   02138|\n|     20| 42|     F|    homemaker|   95660|\n+-------+---+------+-------------+--------+\nonly showing top 20 rows\n\n"
     ]
    }
   ],
   "source": [
    "user_schema = StructType() \\\n",
    "    .add(\"user_id\",IntegerType(),True) \\\n",
    "    .add(\"age\",IntegerType(),True) \\\n",
    "    .add(\"gender\",StringType(),True) \\\n",
    "    .add(\"occupation\",StringType(),True) \\\n",
    "    .add(\"zip_code\",StringType(),True) \n",
    "\n",
    "df_user = spark.read.csv(\"u_user.csv\", header=False, sep=\"|\", schema=user_schema)\n",
    "print(\"\\n Schema\")\n",
    "df_user.printSchema()\n",
    "print(\"\\n Head\")\n",
    "df_user.show()"
   ]
  },
  {
   "source": [
    "## Agrega os dados"
   ],
   "cell_type": "markdown",
   "metadata": {}
  },
  {
   "cell_type": "code",
   "execution_count": 40,
   "metadata": {},
   "outputs": [
    {
     "output_type": "stream",
     "name": "stdout",
     "text": [
      "\n",
      " Schema\n",
      "root\n",
      " |-- movie_id: integer (nullable = true)\n",
      " |-- user_id: integer (nullable = true)\n",
      " |-- nota: integer (nullable = true)\n",
      " |-- date: string (nullable = true)\n",
      " |-- age: integer (nullable = true)\n",
      " |-- gender: string (nullable = true)\n",
      " |-- occupation: string (nullable = true)\n",
      " |-- zip_code: string (nullable = true)\n",
      " |-- movie_title: string (nullable = true)\n",
      " |-- release_data: string (nullable = true)\n",
      " |-- video_release_date: string (nullable = true)\n",
      " |-- imdb_url: string (nullable = true)\n",
      " |-- action: byte (nullable = true)\n",
      " |-- adventure: byte (nullable = true)\n",
      " |-- animation: byte (nullable = true)\n",
      " |-- children: byte (nullable = true)\n",
      " |-- comedy: byte (nullable = true)\n",
      " |-- crime: byte (nullable = true)\n",
      " |-- documentary: byte (nullable = true)\n",
      " |-- drama: byte (nullable = true)\n",
      " |-- fantasy: byte (nullable = true)\n",
      " |-- film-noir: byte (nullable = true)\n",
      " |-- horror: byte (nullable = true)\n",
      " |-- musical: byte (nullable = true)\n",
      " |-- mystery: byte (nullable = true)\n",
      " |-- romance: byte (nullable = true)\n",
      " |-- sci-fi: byte (nullable = true)\n",
      " |-- thriller: byte (nullable = true)\n",
      " |-- war: byte (nullable = true)\n",
      " |-- western: byte (nullable = true)\n",
      "\n",
      "\n",
      " Head\n",
      "+--------+-------+----+-------------------+---+------+-------------+--------+--------------------+------------+------------------+--------------------+------+---------+---------+--------+------+-----+-----------+-----+-------+---------+------+-------+-------+-------+------+--------+---+-------+\n",
      "|movie_id|user_id|nota|               date|age|gender|   occupation|zip_code|         movie_title|release_data|video_release_date|            imdb_url|action|adventure|animation|children|comedy|crime|documentary|drama|fantasy|film-noir|horror|musical|mystery|romance|sci-fi|thriller|war|western|\n",
      "+--------+-------+----+-------------------+---+------+-------------+--------+--------------------+------------+------------------+--------------------+------+---------+---------+--------+------+-----+-----------+-----+-------+---------+------+-------+-------+-------+------+--------+---+-------+\n",
      "|     242|    196|   3|1997-12-04 13:55:49| 49|     M|       writer|   55105|        Kolya (1996)| 24-Jan-1997|              null|http://us.imdb.co...|     0|        0|        0|       0|     1|    0|          0|    0|      0|        0|     0|      0|      0|      0|     0|       0|  0|      0|\n",
      "|     302|    186|   3|1998-04-04 16:22:22| 39|     F|    executive|   00000|L.A. Confidential...| 01-Jan-1997|              null|http://us.imdb.co...|     0|        0|        0|       0|     0|    1|          0|    0|      0|        1|     0|      0|      1|      0|     0|       1|  0|      0|\n",
      "|     377|     22|   1|1997-11-07 05:18:36| 25|     M|       writer|   40206| Heavyweights (1994)| 01-Jan-1994|              null|http://us.imdb.co...|     0|        0|        0|       1|     1|    0|          0|    0|      0|        0|     0|      0|      0|      0|     0|       0|  0|      0|\n",
      "|      51|    244|   2|1997-11-27 03:02:03| 28|     M|   technician|   80525|Legends of the Fa...| 01-Jan-1994|              null|http://us.imdb.co...|     0|        0|        0|       0|     0|    0|          0|    1|      0|        0|     0|      0|      0|      1|     0|       0|  1|      1|\n",
      "|     346|    166|   1|1998-02-02 03:33:16| 47|     M|     educator|   55113| Jackie Brown (1997)| 01-Jan-1997|              null|http://us.imdb.co...|     0|        0|        0|       0|     0|    1|          0|    1|      0|        0|     0|      0|      0|      0|     0|       0|  0|      0|\n",
      "|     474|    298|   4|1998-01-07 12:20:06| 44|     M|    executive|   01581|Dr. Strangelove o...| 01-Jan-1963|              null|http://us.imdb.co...|     0|        0|        0|       0|     0|    0|          0|    0|      0|        0|     0|      0|      0|      0|     1|       0|  1|      0|\n",
      "|     265|    115|   2|1997-12-03 15:51:28| 31|     M|     engineer|   17110|Hunt for Red Octo...| 01-Jan-1990|              null|http://us.imdb.co...|     1|        0|        0|       0|     0|    0|          0|    0|      0|        0|     0|      0|      0|      0|     0|       1|  0|      0|\n",
      "|     465|    253|   5|1998-04-03 15:34:27| 26|     F|    librarian|   22903|Jungle Book, The ...| 01-Jan-1994|              null|http://us.imdb.co...|     0|        1|        0|       1|     0|    0|          0|    0|      0|        0|     0|      0|      0|      1|     0|       0|  0|      0|\n",
      "|     451|    305|   3|1998-02-01 07:20:17| 23|     M|   programmer|   94086|       Grease (1978)| 01-Jan-1978|              null|http://us.imdb.co...|     0|        0|        0|       0|     1|    0|          0|    0|      0|        0|     0|      1|      0|      1|     0|       0|  0|      0|\n",
      "|      86|      6|   3|1997-12-31 19:16:53| 42|     M|    executive|   98101|Remains of the Da...| 01-Jan-1993|              null|http://us.imdb.co...|     0|        0|        0|       0|     0|    0|          0|    1|      0|        0|     0|      0|      0|      0|     0|       0|  0|      0|\n",
      "|     257|     62|   2|1997-11-12 20:07:14| 27|     F|administrator|   97214| Men in Black (1997)| 04-Jul-1997|              null|http://us.imdb.co...|     1|        1|        0|       0|     1|    0|          0|    0|      0|        0|     0|      0|      0|      0|     1|       0|  0|      0|\n",
      "|    1014|    286|   5|1997-11-17 13:38:45| 27|     M|      student|   15217|Romy and Michele'...| 25-Apr-1997|              null|http://us.imdb.co...|     0|        0|        0|       0|     1|    0|          0|    0|      0|        0|     0|      0|      0|      0|     0|       0|  0|      0|\n",
      "|     222|    200|   5|1997-10-05 06:05:40| 40|     M|   programmer|   93402|Star Trek: First ...| 22-Nov-1996|              null|http://us.imdb.co...|     1|        1|        0|       0|     0|    0|          0|    0|      0|        0|     0|      0|      0|      0|     1|       0|  0|      0|\n",
      "|      40|    210|   3|1998-03-27 18:59:54| 39|     M|     engineer|   03060|To Wong Foo, Than...| 01-Jan-1995|              null|http://us.imdb.co...|     0|        0|        0|       0|     1|    0|          0|    0|      0|        0|     0|      0|      0|      0|     0|       0|  0|      0|\n",
      "|      29|    224|   3|1998-02-21 21:40:57| 31|     F|     educator|   43512|Batman Forever (1...| 01-Jan-1995|              null|http://us.imdb.co...|     1|        1|        0|       0|     1|    1|          0|    0|      0|        0|     0|      0|      0|      0|     0|       0|  0|      0|\n",
      "|     785|    303|   3|1997-11-14 03:28:38| 19|     M|      student|   14853|     Only You (1994)| 01-Jan-1994|              null|http://us.imdb.co...|     0|        0|        0|       0|     1|    0|          0|    0|      0|        0|     0|      0|      0|      1|     0|       0|  0|      0|\n",
      "|     387|    122|   5|1997-11-11 15:47:39| 32|     F|       writer|   22206|Age of Innocence,...| 01-Jan-1993|              null|http://us.imdb.co...|     0|        0|        0|       0|     0|    0|          0|    1|      0|        0|     0|      0|      0|      0|     0|       0|  0|      0|\n",
      "|     274|    194|   2|1997-11-14 18:36:34| 38|     M|administrator|   02154|      Sabrina (1995)| 01-Jan-1995|              null|http://us.imdb.co...|     0|        0|        0|       0|     1|    0|          0|    0|      0|        0|     0|      0|      0|      1|     0|       0|  0|      0|\n",
      "|    1042|    291|   4|1997-09-21 06:42:24| 19|     M|      student|   44106|   Just Cause (1995)| 01-Jan-1995|              null|http://us.imdb.co...|     0|        0|        0|       0|     0|    0|          0|    0|      0|        0|     0|      0|      1|      0|     0|       1|  0|      0|\n",
      "|    1184|    234|   2|1998-04-08 20:47:17| 60|     M|      retired|   94702|Endless Summer 2,...| 01-Jan-1994|              null|http://us.imdb.co...|     0|        0|        0|       0|     0|    0|          1|    0|      0|        0|     0|      0|      0|      0|     0|       0|  0|      0|\n",
      "+--------+-------+----+-------------------+---+------+-------------+--------+--------------------+------------+------------------+--------------------+------+---------+---------+--------+------+-----+-----------+-----+-------+---------+------+-------+-------+-------+------+--------+---+-------+\n",
      "only showing top 20 rows\n",
      "\n"
     ]
    }
   ],
   "source": [
    "# juntando u_data e u_user por id\n",
    "new_data = df_data.join(df_user, on=['user_id'], how='left')\n",
    "# juntando por id do filme\n",
    "new_data = new_data.join(df_item, on=[\"movie_id\"], how='left')\n",
    "\n",
    "print(\"\\n Schema\")\n",
    "new_data.printSchema()\n",
    "print(\"\\n Head\")\n",
    "new_data.show()"
   ]
  },
  {
   "source": [
    "## Salva os dados"
   ],
   "cell_type": "markdown",
   "metadata": {}
  },
  {
   "cell_type": "code",
   "execution_count": 41,
   "metadata": {},
   "outputs": [],
   "source": [
    "# salvando os dados em parquet\n",
    "new_data.write.parquet(\"movies_parquet\")"
   ]
  }
 ]
}